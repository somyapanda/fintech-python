{
 "cells": [
  {
   "cell_type": "markdown",
   "id": "behind-neutral",
   "metadata": {},
   "source": [
    "# PyRamen Data Analysis:\n",
    "\n",
    "Welcome to Ichiban Ramen!\n",
    "\n",
    "Opening a ramen shop has always been your dream, and now it's finally been realized––you're closing out on your second year of sales! Like last year, you need to analyze your business's financial performance by cross-referencing your sales data with your internal menu data to figure out revenues and costs for the year.\n",
    "\n",
    "This year, you also want to analyze how well your business did on a per-product basis (as you have several choices of ramen) in order to better understand which products are doing well, which are doing poorly, and, ultimately, which products may need to be removed or changed.\n",
    "\n",
    "You tried doing this type of per-product analysis last year in Excel, but you were not able to keep your reports up-to-date with your current sales data. Therefore, you need to innovate. With more customers and more data to process, you'll need a tool that will allow you to automate your calculations in a manner that scales with your business.\n",
    "\n",
    "## Solution:"
   ]
  },
  {
   "cell_type": "code",
   "execution_count": 11,
   "id": "cheap-virtue",
   "metadata": {},
   "outputs": [],
   "source": [
    "# Import libraries\n",
    "import csv\n",
    "from pathlib import Path"
   ]
  },
  {
   "cell_type": "code",
   "execution_count": 12,
   "id": "celtic-bearing",
   "metadata": {},
   "outputs": [],
   "source": [
    "# Set file paths for menu_data.csv and sales_data.csv\n",
    "menu_filepath = Path('./menu_data.csv')\n",
    "sales_filepath = Path('./sales_data.csv')"
   ]
  },
  {
   "cell_type": "code",
   "execution_count": 13,
   "id": "extended-filling",
   "metadata": {},
   "outputs": [],
   "source": [
    "# Initialize list objects to hold our menu and sales data\n",
    "menu = []\n",
    "sales = []"
   ]
  },
  {
   "cell_type": "code",
   "execution_count": 16,
   "id": "educated-keeping",
   "metadata": {},
   "outputs": [],
   "source": [
    "# Read in the menu data into the menu list\n",
    "with open(menu_filepath) as menu_file:\n",
    "    menu_reader = csv.reader(menu_file)\n",
    "    next(menu_reader, None)\n",
    "    for row in menu_reader:\n",
    "        menu.append(row)"
   ]
  },
  {
   "cell_type": "code",
   "execution_count": 17,
   "id": "metric-parliament",
   "metadata": {},
   "outputs": [],
   "source": [
    "# Read in the sales data into the sales list\n",
    "with open(sales_filepath) as sales_file:\n",
    "    sales_reader = csv.reader(sales_file)\n",
    "    next(sales_reader, None)\n",
    "    for row in sales_reader:\n",
    "        sales.append(row)"
   ]
  },
  {
   "cell_type": "code",
   "execution_count": 37,
   "id": "necessary-millennium",
   "metadata": {},
   "outputs": [],
   "source": [
    "#Initialize dict object to hold our key-value pairs of items and metrics\n",
    "report = {}"
   ]
  },
  {
   "cell_type": "code",
   "execution_count": 38,
   "id": "dominican-idaho",
   "metadata": {},
   "outputs": [],
   "source": [
    "# Initialize a row counter variable\n",
    "row_count = 0"
   ]
  },
  {
   "cell_type": "code",
   "execution_count": 39,
   "id": "handy-formation",
   "metadata": {},
   "outputs": [
    {
     "name": "stdout",
     "output_type": "stream",
     "text": [
      "Total number of records in sales data 74124\n"
     ]
    }
   ],
   "source": [
    "# Loop over every row in the sales list object\n",
    "for sale in sales:\n",
    "    # Line_Item_ID,Date,Credit_Card_Number,Quantity,Menu_Item\n",
    "    # Initialize sales data variables\n",
    "    quantity = int(sale[3])\n",
    "    menu_item = sale[4]\n",
    "    \n",
    "    if menu_item not in report.keys():\n",
    "        report[menu_item] = {\n",
    "            \"01-count\": 0,\n",
    "            \"02-revenue\": 0,\n",
    "            \"03-cost\": 0,\n",
    "            \"04-profit\": 0\n",
    "        }  \n",
    "    else:\n",
    "        for m in menu:\n",
    "            # Item,Category,Description,Price,Cost\n",
    "            # Initialize menu data variables\n",
    "            price = float(m[3])\n",
    "            cost = float(m[4])\n",
    "            # Calculate profit of each item in the menu data\n",
    "            profit = price - cost\n",
    "            # If the item value in our sales data is equal to the any of the items in the menu, then begin tracking metrics for that item\n",
    "            if m[0] == menu_item:\n",
    "                # Cumulatively add up the metrics for each item key\n",
    "                item_report[\"01-count\"] += quantity\n",
    "                item_report[\"02-revenue\"] += price * quantity\n",
    "                item_report[\"03-cost\"] += cost * quantity\n",
    "                item_report[\"04-profit\"] += profit * quantity\n",
    "    # Increment the row counter by 1\n",
    "    row_count += 1\n",
    "print(f\"Total number of records in sales data {row_count}\")"
   ]
  },
  {
   "cell_type": "code",
   "execution_count": 40,
   "id": "boring-shame",
   "metadata": {},
   "outputs": [
    {
     "name": "stdout",
     "output_type": "stream",
     "text": [
      "{'spicy miso ramen': {'01-count': 9237, '02-revenue': 110844.0, '03-cost': 46185.0, '04-profit': 64659.0}, 'tori paitan ramen': {'01-count': 9153, '02-revenue': 118989.0, '03-cost': 54918.0, '04-profit': 64071.0}, 'truffle butter ramen': {'01-count': 8981, '02-revenue': 125734.0, '03-cost': 62867.0, '04-profit': 62867.0}, 'tonkotsu ramen': {'01-count': 9287, '02-revenue': 120731.0, '03-cost': 55722.0, '04-profit': 65009.0}, 'vegetarian spicy miso': {'01-count': 9215, '02-revenue': 110580.0, '03-cost': 46075.0, '04-profit': 64505.0}, 'shio ramen': {'01-count': 9179, '02-revenue': 100969.0, '03-cost': 45895.0, '04-profit': 55074.0}, 'miso crab ramen': {'01-count': 8886, '02-revenue': 106632.0, '03-cost': 53316.0, '04-profit': 53316.0}, 'nagomi shoyu': {'01-count': 9131, '02-revenue': 100441.0, '03-cost': 45655.0, '04-profit': 54786.0}, 'soft-shell miso crab ramen': {'01-count': 9129, '02-revenue': 127806.0, '03-cost': 63903.0, '04-profit': 63903.0}, 'burnt garlic tonkotsu ramen': {'01-count': 9069, '02-revenue': 126966.0, '03-cost': 54414.0, '04-profit': 72552.0}, 'vegetarian curry + king trumpet mushroom ramen': {'01-count': 8823, '02-revenue': 114699.0, '03-cost': 61761.0, '04-profit': 52938.0}}\n"
     ]
    }
   ],
   "source": [
    "# Print total number of records in sales data\n",
    "print(report)"
   ]
  },
  {
   "cell_type": "code",
   "execution_count": 42,
   "id": "original-objective",
   "metadata": {},
   "outputs": [],
   "source": [
    "# Write out report to a text file (won't appear on the command line output)\n",
    "with open(\"report.txt\", \"w\") as report_file:\n",
    "    report_file.write(str(report))"
   ]
  },
  {
   "cell_type": "code",
   "execution_count": null,
   "id": "annual-engineer",
   "metadata": {},
   "outputs": [],
   "source": [
    "\n",
    "    "
   ]
  }
 ],
 "metadata": {
  "kernelspec": {
   "display_name": "Python 3",
   "language": "python",
   "name": "python3"
  },
  "language_info": {
   "codemirror_mode": {
    "name": "ipython",
    "version": 3
   },
   "file_extension": ".py",
   "mimetype": "text/x-python",
   "name": "python",
   "nbconvert_exporter": "python",
   "pygments_lexer": "ipython3",
   "version": "3.8.5"
  }
 },
 "nbformat": 4,
 "nbformat_minor": 5
}
