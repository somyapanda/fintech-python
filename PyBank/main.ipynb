{
 "cells": [
  {
   "cell_type": "markdown",
   "id": "greatest-growing",
   "metadata": {},
   "source": [
    "# PyBank Financial Data Analysis\n",
    "\n",
    "## Problem\n",
    "In this activity, you are tasked with creating a Python script for analyzing the financial records of your company. You will be provided with a financial dataset in this file: budget_data.csv. This dataset is composed of two columns, Date and Profit/Losses. (Thankfully, your company has rather lax standards for accounting, so the records are simple.)\n",
    "\n",
    "Your task is to create a Python script that analyzes the records to calculate each of the following:\n",
    "\n",
    "* The total number of months included in the dataset.\n",
    "* The net total amount of Profit/Losses over the entire period.\n",
    "* The average of the changes in Profit/Losses over the entire period.\n",
    "* The greatest increase in profits (date and amount) over the entire period.\n",
    "* The greatest decrease in losses (date and amount) over the entire period.\n",
    "\n",
    "Your resulting analysis should look similar to the following:\n",
    "```\n",
    "Financial Analysis\n",
    "----------------------------\n",
    "Total Months: 86\n",
    "Total: $38382578\n",
    "Average  Change: $-2315.12\n",
    "Greatest Increase in Profits: Feb-2012 ($1926159)\n",
    "Greatest Decrease in Profits: Sep-2013 ($-2196167)\n",
    "```\n",
    "Your final script should print the analysis to the terminal and export a text file with the results.\n",
    "\n",
    "## Solution"
   ]
  },
  {
   "cell_type": "code",
   "execution_count": 23,
   "id": "charitable-irrigation",
   "metadata": {},
   "outputs": [
    {
     "name": "stdout",
     "output_type": "stream",
     "text": [
      "Financial Analysis\n",
      "--------------------------------------------------\n",
      "Total Months: 86\n",
      "Total: $38382578\n",
      "Average  Change: $-2288.20\n",
      "Greatest Increase in Profits: Feb-2012 ($1926159)\n",
      "Greatest Decrease in Profits: Sep-2013 ($-2196167)\n"
     ]
    }
   ],
   "source": [
    "# Variable to store number of months in the data \n",
    "num_months = 0\n",
    "# Variable to store total amount of Profit/Losses over the entire period \n",
    "total = 0\n",
    "# List to store monthly changes in Profit/Losses over the entire period\n",
    "monthly_changes = []\n",
    "# Variables to store Profit/Losses for current and previous month\n",
    "previous_month_amount, current_month_amount = 0, 0\n",
    "# Variables to store maximum increase and maximum decrease in Profit/Losses over the entire period\n",
    "max_increase, max_decrease = 0, 0\n",
    "# Variables to store maximum increase date and maximum decrease date in Profit/Losses over the entire period\n",
    "max_increase_date, max_decrease_date = \"\", \"\"\n",
    "# Open the file budget_data.csv for reading\n",
    "with open('./budget_data.csv') as budget_data:\n",
    "    # Enumerate the lines in the file \n",
    "    for i, line in enumerate(budget_data):\n",
    "        # Ignore header\n",
    "        if i == 0:\n",
    "            continue\n",
    "        # Increment num_months by 1\n",
    "        num_months += 1\n",
    "        # Split each line to extract the date and amount(Profit/Losses) columns \n",
    "        date, amount = line.split(',')\n",
    "        # Add amount to total\n",
    "        total += int(amount)\n",
    "        # Set the current_month_amount to previous_month_amount\n",
    "        previous_month_amount = current_month_amount\n",
    "        # Set the extracted amount to current_month_amount\n",
    "        current_month_amount = int(amount)\n",
    "        # Find the change in Profit/Losses\n",
    "        change = current_month_amount- previous_month_amount\n",
    "        # Append change to monthly_changes from second month onwards\n",
    "        if i > 1:\n",
    "            monthly_changes.append(change)\n",
    "        # Update max_increase and max_increase_date \n",
    "        if change > max_increase:\n",
    "            max_increase = change\n",
    "            max_increase_date = date\n",
    "        # Update  max_decrease and max_decrease_date\n",
    "        if change < max_decrease:\n",
    "            max_decrease = change\n",
    "            max_decrease_date = date\n",
    "# Store the result in a list            \n",
    "result = []\n",
    "result.append(\"Financial Analysis\")\n",
    "result.append(\"-\"*50)\n",
    "result.append(f\"Total Months: {num_months}\")\n",
    "result.append(f\"Total: ${total}\")\n",
    "result.append(f\"Average  Change: ${(sum(monthly_changes) / num_months):.2f}\")\n",
    "result.append(f\"Greatest Increase in Profits: {max_increase_date} (${max_increase})\")\n",
    "result.append(f\"Greatest Decrease in Profits: {max_decrease_date} (${max_decrease})\")\n",
    "# Print the result to console and write to a text file\n",
    "with open(\"result.txt\", 'w') as file:\n",
    "    for line in result:\n",
    "        print(line)\n",
    "        file.write(line)\n",
    "        file.write(\"\\n\")"
   ]
  },
  {
   "cell_type": "code",
   "execution_count": null,
   "id": "searching-wholesale",
   "metadata": {},
   "outputs": [],
   "source": []
  }
 ],
 "metadata": {
  "kernelspec": {
   "display_name": "Python 3",
   "language": "python",
   "name": "python3"
  },
  "language_info": {
   "codemirror_mode": {
    "name": "ipython",
    "version": 3
   },
   "file_extension": ".py",
   "mimetype": "text/x-python",
   "name": "python",
   "nbconvert_exporter": "python",
   "pygments_lexer": "ipython3",
   "version": "3.8.5"
  }
 },
 "nbformat": 4,
 "nbformat_minor": 5
}
